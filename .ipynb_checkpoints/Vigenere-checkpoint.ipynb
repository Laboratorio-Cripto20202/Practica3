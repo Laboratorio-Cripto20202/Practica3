{
 "cells": [
  {
   "cell_type": "code",
   "execution_count": 73,
   "metadata": {},
   "outputs": [
    {
     "name": "stdout",
     "output_type": "stream",
     "text": [
      "Repeticiones de patrones:\n",
      "MAU(2) -> [41, 69]\n",
      "Distancias: [28]\n",
      "\n",
      "AURQ(2) -> [70, 91]\n",
      "Distancias: [21]\n",
      "\n",
      "HXPM(2) -> [74, 95]\n",
      "Distancias: [21]\n",
      "\n",
      "IYN(2) -> [7, 63]\n",
      "Distancias: [56]\n",
      "\n",
      "LMM(2) -> [208, 243]\n",
      "Distancias: [35]\n",
      "\n",
      "IYN(2) -> [7, 63]\n",
      "Distancias: [56]\n",
      "\n",
      "TQ(3) -> [19, 66, 172]\n",
      "Distancias: [47, 106]\n",
      "\n",
      "EETW(2) -> [80, 101]\n",
      "Distancias: [21]\n",
      "\n",
      "MIY(2) -> [62, 111]\n",
      "Distancias: [49]\n",
      "\n",
      "MM(3) -> [209, 244, 259]\n",
      "Distancias: [35, 15]\n",
      "\n"
     ]
    }
   ],
   "source": [
    "import re\n",
    "from utils import *\n",
    "#Adivinando Vigenere\n",
    "alphabet = \"ABCDEFGHIJKLMNÑOPQRSTUVWXYZ\"\n",
    "m = \"XNXAFNI I YN LNWS KBR GETQ PZIIRXVMZHIN NYA BÑOF GM AUVUUXVI\\\n",
    "ITLGXEZBR HNVMI YN TQ OM AUR QHX PM INEETW BQ MAÑEI AUR QHX PM BDEETW\\\n",
    "G GTDN FM IYFRSÑVI FJ ATIKÓ LQRTEI HM YN MQ WYMXJ HNMXI XF VUWE ANGEE\\\n",
    "KYM YJ OXOMLNXTQ JIUFFR DÑI UU IEFJVMONOF FIZQECN RS LQ YI L MMU QQBNLKW\\\n",
    "FNGHXW CZNDN T PP QCIFNIUONA L MM DUAO OBIU NSOF VMMZ FÑBM TPQRSB XQ BU\"\n",
    "m = m.replace(\" \", \"\")\n",
    "patterns = \"MAU AURQ HXPM IYN LMM IYN TQ EETW MIY MM\"\n",
    "patterns = list(patterns.split(\" \"))\n",
    "results = []\n",
    "print(\"Repeticiones de patrones:\")\n",
    "for p in patterns:\n",
    "    positions = [(a.start()) for a in list(re.finditer(p, m))]\n",
    "    print(f\"{p}({m.count(p)}) -> {positions}\")\n",
    "    print(f\"Distancias: {[positions[i+1] - positions[i] for i in range(len(positions)-1)]}\\n\")"
   ]
  },
  {
   "cell_type": "code",
   "execution_count": 64,
   "metadata": {},
   "outputs": [
    {
     "name": "stdout",
     "output_type": "stream",
     "text": [
      "[1, 2, 4, 7, 14, 28]\n",
      "[1, 3, 21, 7]\n",
      "[1, 2, 4, 7, 8, 14, 56, 28]\n",
      "[1, 35, 5, 7]\n",
      "[1, 49, 7]\n",
      "[1, 2, 53, 106]\n"
     ]
    }
   ],
   "source": [
    "print(divisors(28))\n",
    "print(divisors(21))\n",
    "print(divisors(56))\n",
    "print(divisors(35))\n",
    "print(divisors(49))\n",
    "print(divisors(106))"
   ]
  },
  {
   "cell_type": "code",
   "execution_count": 77,
   "metadata": {},
   "outputs": [
    {
     "name": "stdout",
     "output_type": "stream",
     "text": [
      "[('I', 10), ('M', 7), ('A', 4), ('K', 2), ('P', 2), ('X', 2), ('Y', 2), ('B', 1), ('E', 1), ('G', 1), ('H', 1), ('Q', 1), ('S', 1), ('T', 1), ('V', 1), ('W', 1), ('Z', 1), ('C', 0), ('D', 0), ('F', 0), ('J', 0), ('L', 0), ('N', 0), ('Ñ', 0), ('O', 0), ('R', 0), ('U', 0)]\n",
      "\n",
      "\n",
      "[('U', 8), ('B', 5), ('M', 5), ('I', 3), ('L', 3), ('Y', 3), ('Z', 3), ('P', 2), ('A', 1), ('C', 1), ('D', 1), ('F', 1), ('G', 1), ('N', 1), ('Q', 1), ('W', 1), ('E', 0), ('H', 0), ('J', 0), ('K', 0), ('Ñ', 0), ('O', 0), ('R', 0), ('S', 0), ('T', 0), ('V', 0), ('X', 0)]\n",
      "\n",
      "\n",
      "[('N', 6), ('Q', 6), ('R', 4), ('F', 3), ('U', 3), ('X', 3), ('O', 2), ('T', 2), ('Y', 2), ('Z', 2), ('D', 1), ('H', 1), ('I', 1), ('J', 1), ('M', 1), ('Ñ', 1), ('V', 1), ('A', 0), ('B', 0), ('C', 0), ('E', 0), ('G', 0), ('K', 0), ('L', 0), ('P', 0), ('S', 0), ('W', 0)]\n",
      "\n",
      "\n",
      "[('N', 5), ('A', 4), ('E', 3), ('F', 3), ('I', 3), ('Q', 3), ('R', 3), ('G', 2), ('J', 2), ('L', 2), ('C', 1), ('D', 1), ('H', 1), ('O', 1), ('S', 1), ('T', 1), ('U', 1), ('X', 1), ('Y', 1), ('B', 0), ('K', 0), ('M', 0), ('Ñ', 0), ('P', 0), ('V', 0), ('W', 0), ('Z', 0)]\n",
      "\n",
      "\n",
      "[('E', 5), ('N', 4), ('O', 4), ('H', 3), ('T', 3), ('F', 2), ('G', 2), ('I', 2), ('Ñ', 2), ('R', 2), ('S', 2), ('A', 1), ('B', 1), ('C', 1), ('D', 1), ('M', 1), ('Q', 1), ('U', 1), ('V', 1), ('J', 0), ('K', 0), ('L', 0), ('P', 0), ('W', 0), ('X', 0), ('Y', 0), ('Z', 0)]\n",
      "\n",
      "\n",
      "[('N', 6), ('X', 6), ('F', 5), ('E', 3), ('T', 3), ('B', 2), ('L', 2), ('O', 2), ('Q', 2), ('D', 1), ('G', 1), ('H', 1), ('I', 1), ('Ñ', 1), ('U', 1), ('V', 1), ('W', 1), ('A', 0), ('C', 0), ('J', 0), ('K', 0), ('M', 0), ('P', 0), ('R', 0), ('S', 0), ('Y', 0), ('Z', 0)]\n",
      "\n",
      "\n",
      "[('M', 8), ('V', 4), ('W', 4), ('I', 3), ('J', 2), ('K', 2), ('P', 2), ('X', 2), ('B', 1), ('E', 1), ('F', 1), ('L', 1), ('N', 1), ('Ñ', 1), ('O', 1), ('Q', 1), ('R', 1), ('S', 1), ('T', 1), ('Y', 1), ('A', 0), ('C', 0), ('D', 0), ('G', 0), ('H', 0), ('U', 0), ('Z', 0)]\n",
      "\n",
      "\n"
     ]
    }
   ],
   "source": [
    "columns = []\n",
    "i = 0\n",
    "len_key = 7\n",
    "#Dividimos en columnas\n",
    "while (i < len(m)):\n",
    "    if(i+len_key >= len(m)):\n",
    "        columns.append(m[i:len(m)])\n",
    "        break\n",
    "    columns.append(m[i:i+len_key])\n",
    "    i += len_key\n",
    "frequencies = []\n",
    "#Frecuencia por columnas\n",
    "for i in range(len_key):\n",
    "    aux = \"\"\n",
    "    for j in range(len(columns)):\n",
    "        if(i>=len(columns[j])):\n",
    "            continue\n",
    "        aux += columns[j][i]\n",
    "    frequencies.append([(a,aux.count(a)) for a in alphabet])\n",
    "\n",
    "for f in frequencies:\n",
    "    f.sort(key=lambda x: x[1],reverse=True)\n",
    "    print(f)\n",
    "    print(\"\\n\")"
   ]
  },
  {
   "cell_type": "code",
   "execution_count": 101,
   "metadata": {},
   "outputs": [
    {
     "name": "stdout",
     "output_type": "stream",
     "text": [
      "PJPWXJAEQJDJOOCXKCWPJMREAÑPREVZEFJQWTKHBYISQÑQNTÑEAPDCPARXKDFREEQJMNHISQKNZTIIAJWAMSTNEWGAAWNÑJDPMEXVAWPOCYPVJXIAUXÑLKÑEXFSPAGRHJÑMAADEUFIJSQIPFZJETATXRNSWWFCWACUEUBLPLEHFTMNBENBXÑVKAQNEWBBRELFLXBAVJAUJKODNQEDIEQJNTJDGOBFCZTOYRJVJMMINUEXJAQHJSHEIVQSLHXAQFOHBÑIEVXKTIMMJÑLXPNTQ\n"
     ]
    }
   ],
   "source": [
    "#Contraseña con criptoanálisis\n",
    "password = \"IE\"\n",
    "solution= \"\"\n",
    "for i in range(len(m)):\n",
    "    solution += alphabet[(alphabet.find(m[i])-alphabet.find(password[i%len(password)]))% 27]\n",
    "print(solution)"
   ]
  }
 ],
 "metadata": {
  "file_extension": ".py",
  "kernelspec": {
   "display_name": "Python 3",
   "language": "python",
   "name": "python3"
  },
  "language_info": {
   "codemirror_mode": {
    "name": "ipython",
    "version": 2
   },
   "file_extension": ".py",
   "mimetype": "text/x-python",
   "name": "python",
   "nbconvert_exporter": "python",
   "pygments_lexer": "ipython2",
   "version": "2.7.17"
  },
  "mimetype": "text/x-python",
  "name": "python",
  "npconvert_exporter": "python",
  "pygments_lexer": "ipython3",
  "version": 3
 },
 "nbformat": 4,
 "nbformat_minor": 2
}
