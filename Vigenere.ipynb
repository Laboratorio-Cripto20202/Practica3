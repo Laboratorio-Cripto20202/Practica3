{
 "nbformat": 4,
 "nbformat_minor": 2,
 "metadata": {
  "language_info": {
   "name": "python",
   "codemirror_mode": {
    "name": "ipython",
    "version": 3
   },
   "version": "3.6.9-final"
  },
  "orig_nbformat": 2,
  "file_extension": ".py",
  "mimetype": "text/x-python",
  "name": "python",
  "npconvert_exporter": "python",
  "pygments_lexer": "ipython3",
  "version": 3,
  "kernelspec": {
   "name": "python36964bit2cccdd7f27254716b536efacc14b70dd",
   "display_name": "Python 3.6.9 64-bit"
  }
 },
 "cells": [
  {
   "cell_type": "code",
   "execution_count": 8,
   "metadata": {},
   "outputs": [
    {
     "name": "stdout",
     "output_type": "stream",
     "text": "Repeticiones de patrones:\nMAU(2) -> [41, 69]\nDistancias: [28]\n\nAURQHXPM(2) -> [70, 91]\nDistancias: [21]\n\nIYN(2) -> [7, 63]\nDistancias: [56]\n\nLMM(2) -> [208, 243]\nDistancias: [35]\n\nIYN(2) -> [7, 63]\nDistancias: [56]\n\nTQ(3) -> [19, 66, 172]\nDistancias: [47, 106]\n\nEETW(2) -> [80, 101]\nDistancias: [21]\n\n"
    }
   ],
   "source": [
    "import re\n",
    "from utils import *\n",
    "#Adivinando Vigenere\n",
    "alphabet = \"ABCDEFGHIJKLMNÑOPQRSTUVWXYZ\"\n",
    "m = \"XNXAFNI I YN LNWS KBR GETQ PZIIRXVMZHIN NYA BÑOF GM AUVUUXVI\\\n",
    "ITLGXEZBR HNVMI YN TQ OM AUR QHX PM INEETW BQ MAÑEI AUR QHX PM BDEETW\\\n",
    "G GTDN FM IYFRSÑVI FJ ATIKÓ LQRTEI HM YN MQ WYMXJ HNMXI XF VUWE ANGEE\\\n",
    "KYM YJ OXOMLNXTQ JIUFFR DÑI UU IEFJVMONOF FIZQECN RS LQ YI L MMU QQBNLKW\\\n",
    "FNGHXW CZNDN T PP QCIFNIUONA L MM DUAO OBIU NSOF VMMZ FÑBM TPQRSB XQ BU\"\n",
    "m = m.replace(\" \", \"\")\n",
    "patterns = \"MAU AURQHXPM IYN LMM IYN TQ EETW\"\n",
    "patterns = list(patterns.split(\" \"))\n",
    "results = []\n",
    "print(\"Repeticiones de patrones:\")\n",
    "for p in patterns:\n",
    "    positions = [(a.start()) for a in list(re.finditer(p, m))]\n",
    "    print(f\"{p}({m.count(p)}) -> {positions}\")\n",
    "    print(f\"Distancias: {sorted([positions[i+1] - positions[i] for i in range(len(positions)-1)])}\\n\")"
   ]
  },
  {
   "cell_type": "code",
   "execution_count": 14,
   "metadata": {},
   "outputs": [
    {
     "name": "stdout",
     "output_type": "stream",
     "text": "[1, 2, 4, 7, 14, 28]\n[1, 3, 21, 7]\n[1, 2, 4, 7, 8, 14, 56, 28]\n[1, 35, 5, 7]\n[1, 47]\n[1, 2, 53, 106]\n276\n"
    }
   ],
   "source": [
    "print(divisors(28))\n",
    "print(divisors(21))\n",
    "print(divisors(56))\n",
    "print(divisors(35))\n",
    "print(divisors(47))\n",
    "print(divisors(106))"
   ]
  },
  {
   "cell_type": "code",
   "execution_count": 28,
   "metadata": {},
   "outputs": [
    {
     "name": "stdout",
     "output_type": "stream",
     "text": "[('I', 7), ('N', 6), ('D', 4), ('L', 4), ('M', 4), ('Q', 4), ('U', 4), ('B', 3), ('F', 3), ('O', 3), ('W', 3), ('X', 3), ('Y', 3), ('J', 2), ('P', 2), ('R', 2), ('V', 2), ('A', 1), ('C', 1), ('E', 1), ('G', 1), ('H', 1), ('K', 1), ('Ñ', 1), ('S', 1), ('T', 1), ('Z', 1)]\n\n\n[('N', 11), ('M', 8), ('Q', 7), ('G', 5), ('R', 4), ('E', 3), ('Ñ', 3), ('O', 3), ('Z', 3), ('F', 2), ('I', 2), ('K', 2), ('P', 2), ('U', 2), ('V', 2), ('Y', 2), ('B', 1), ('C', 1), ('H', 1), ('J', 1), ('L', 1), ('S', 1), ('W', 1), ('X', 1), ('A', 0), ('D', 0), ('T', 0)]\n\n\n[('M', 8), ('F', 6), ('I', 6), ('E', 5), ('T', 5), ('X', 5), ('A', 4), ('H', 3), ('Q', 3), ('B', 2), ('N', 2), ('O', 2), ('R', 2), ('V', 2), ('Y', 2), ('Z', 2), ('C', 1), ('D', 1), ('G', 1), ('J', 1), ('K', 1), ('L', 1), ('S', 1), ('U', 1), ('W', 1), ('Ñ', 0), ('P', 0)]\n\n\n[('I', 8), ('U', 7), ('A', 5), ('T', 5), ('X', 5), ('B', 4), ('E', 4), ('F', 4), ('N', 4), ('H', 2), ('L', 2), ('M', 2), ('O', 2), ('P', 2), ('R', 2), ('S', 2), ('V', 2), ('W', 2), ('Y', 2), ('J', 1), ('Ñ', 1), ('Q', 1), ('C', 0), ('D', 0), ('G', 0), ('K', 0), ('Z', 0)]\n\n\n"
    }
   ],
   "source": [
    "columns = []\n",
    "i = 0\n",
    "len_key = 4\n",
    "\n",
    "while (i < len(m)):\n",
    "    if(i+len_key >= len(m)):\n",
    "        columns.append(m[i:len(m)])\n",
    "        break\n",
    "    columns.append(m[i:i+len_key])\n",
    "    i += len_key\n",
    "frequencies = []\n",
    "for i in range(len_key):\n",
    "    aux = \"\"\n",
    "    for j in range(len(columns)):\n",
    "        if(i>=len(columns[j])):\n",
    "            continue\n",
    "        aux += columns[j][i]\n",
    "    frequencies.append([(a,aux.count(a)) for a in alphabet])\n",
    "for f in frequencies:\n",
    "    f.sort(key=lambda x: x[1],reverse=True)\n",
    "    print(f)\n",
    "    print(\"\\n\")"
   ]
  },
  {
   "cell_type": "code",
   "execution_count": null,
   "metadata": {},
   "outputs": [],
   "source": [
    "solution= \"\"\n",
    "for i in range(len(m)):\n",
    "    solution += alphabet[(alphabet.find(m[i])-self.password[i%len(self.password)])% 27]"
   ]
  }
 ]
}