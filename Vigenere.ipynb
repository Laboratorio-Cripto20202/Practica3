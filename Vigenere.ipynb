{
 "cells": [
  {
   "cell_type": "code",
   "execution_count": 1,
   "metadata": {},
   "outputs": [
    {
     "name": "stdout",
     "output_type": "stream",
     "text": "Repeticiones de patrones:\nMAU(2) -> [41, 69]\nDistancias: [28]\n\nAURQ(2) -> [70, 91]\nDistancias: [21]\n\nHXPM(2) -> [74, 95]\nDistancias: [21]\n\nIYN(2) -> [7, 63]\nDistancias: [56]\n\nLMM(2) -> [207, 242]\nDistancias: [35]\n\nIYN(2) -> [7, 63]\nDistancias: [56]\n\nTQ(3) -> [19, 66, 171]\nDistancias: [47, 105]\n\nEETW(2) -> [80, 101]\nDistancias: [21]\n\nMIY(2) -> [62, 111]\nDistancias: [49]\n\nMM(3) -> [208, 243, 258]\nDistancias: [35, 15]\n\n"
    }
   ],
   "source": [
    "import re\n",
    "from utils import *\n",
    "#Adivinando Vigenere\n",
    "alphabet = \"ABCDEFGHIJKLMNÑOPQRSTUVWXYZ\"\n",
    "m = \"XNXAFNI I YN LNWS KBR GETQ PZIIRXVMZHIN NYA BÑOF GM AUVUUXVI\\\n",
    "ITLGXEZBR HNVMI YN TQ OM AUR QHX PM INEETW BQ MAÑEI AUR QHX PM BDEETW\\\n",
    "G GTDN FM IYFRSÑVI FJ ATIK LQRTEI HM YN MQ WYMXJ HNMXI XF VUWE ANGEE\\\n",
    "KYM YJ OXOMLNXTQ JIUFFR DÑI UU IEFJVMONOF FIZQECN RS LQ YI L MMU QQBNLKW\\\n",
    "FNGHXW CZNDN T PP QCIFNIUONA L MM DUAO OBIU NSOF VMMZ FÑBM TPQRSB XQ BU\"\n",
    "m = m.replace(\" \", \"\")\n",
    "#Patrones repetidos en el texto\n",
    "patterns = \"MAU AURQ HXPM IYN LMM IYN TQ EETW MIY MM\"\n",
    "patterns = list(patterns.split(\" \"))\n",
    "results = []\n",
    "print(\"Repeticiones de patrones:\")\n",
    "#Caracteristicas significantes de los patrones\n",
    "for p in patterns:\n",
    "    positions = [(a.start()) for a in list(re.finditer(p, m))]\n",
    "    print(f\"{p}({m.count(p)}) -> {positions}\")\n",
    "    print(f\"Distancias: {[positions[i+1] - positions[i] for i in range(len(positions)-1)]}\\n\")"
   ]
  },
  {
   "cell_type": "code",
   "execution_count": 2,
   "metadata": {},
   "outputs": [
    {
     "name": "stdout",
     "output_type": "stream",
     "text": "[1, 2, 4, 7, 14, 28]\n[1, 3, 21, 7]\n[1, 2, 4, 7, 8, 14, 56, 28]\n[1, 35, 5, 7]\n[1, 49, 7]\n[1, 2, 53, 106]\n"
    }
   ],
   "source": [
    "print(divisors(28))\n",
    "print(divisors(21))\n",
    "print(divisors(56))\n",
    "print(divisors(35))\n",
    "print(divisors(49))\n",
    "print(divisors(106))"
   ]
  },
  {
   "cell_type": "code",
   "execution_count": 3,
   "metadata": {},
   "outputs": [
    {
     "name": "stdout",
     "output_type": "stream",
     "text": "XNXAFNI\nIYNLNWS\nKBRGETQ\nPZIIRXV\nMZHINNY\nABÑOFGM\nAUVUUXV\nIITLGXE\nZBRHNVM\nIYNTQOM\nAURQHXP\nMINEETW\nBQMAÑEI\nAURQHXP\nMBDEETW\nGGTDNFM\nIYFRSÑV\nIFJATIK\nLQRTEIH\nMYNMQWY\nMXJHNMX\nIXFVUWE\nANGEEKY\nMYJOXOM\nLNXTQJI\nUFFRDÑI\nUUIEFJV\nMONOFFI\nZQECNRS\nLQYILMM\nUQQBNLK\nWFNGHXW\nCZNDNTP\nPQCIFNI\nUONALMM\nDUAOOBI\nUNSOFVM\nMZFÑBMT\nPQRSBXQ\nBU\n"
    }
   ],
   "source": [
    "columns = []\n",
    "i = 0\n",
    "len_key = 7\n",
    "#Dividimos en columnas\n",
    "while (i < len(m)):\n",
    "    if(i+len_key >= len(m)):\n",
    "        columns.append(m[i:len(m)])\n",
    "        break\n",
    "    columns.append(m[i:i+len_key])\n",
    "    i += len_key\n",
    "for i in columns:\n",
    "    print(i)"
   ]
  },
  {
   "cell_type": "code",
   "execution_count": 4,
   "metadata": {},
   "outputs": [
    {
     "name": "stdout",
     "output_type": "stream",
     "text": "[('M', 8), ('I', 6), ('A', 5), ('U', 5), ('L', 3), ('P', 3), ('B', 2), ('Z', 2), ('C', 1), ('D', 1), ('G', 1), ('K', 1), ('W', 1), ('X', 1), ('E', 0), ('F', 0), ('H', 0), ('J', 0), ('N', 0), ('Ñ', 0), ('O', 0), ('Q', 0), ('R', 0), ('S', 0), ('T', 0), ('V', 0), ('Y', 0)]\n\n\n[('Q', 7), ('U', 6), ('Y', 5), ('B', 4), ('N', 4), ('Z', 4), ('F', 3), ('I', 2), ('O', 2), ('X', 2), ('G', 1), ('A', 0), ('C', 0), ('D', 0), ('E', 0), ('H', 0), ('J', 0), ('K', 0), ('L', 0), ('M', 0), ('Ñ', 0), ('P', 0), ('R', 0), ('S', 0), ('T', 0), ('V', 0), ('W', 0)]\n\n\n[('N', 8), ('R', 6), ('F', 4), ('J', 3), ('I', 2), ('T', 2), ('X', 2), ('A', 1), ('C', 1), ('D', 1), ('E', 1), ('G', 1), ('H', 1), ('M', 1), ('Ñ', 1), ('Q', 1), ('S', 1), ('V', 1), ('Y', 1), ('B', 0), ('K', 0), ('L', 0), ('O', 0), ('P', 0), ('U', 0), ('W', 0), ('Z', 0)]\n\n\n[('O', 5), ('A', 4), ('E', 4), ('I', 4), ('T', 3), ('D', 2), ('G', 2), ('H', 2), ('L', 2), ('Q', 2), ('R', 2), ('B', 1), ('C', 1), ('M', 1), ('Ñ', 1), ('S', 1), ('U', 1), ('V', 1), ('F', 0), ('J', 0), ('K', 0), ('N', 0), ('P', 0), ('W', 0), ('X', 0), ('Y', 0), ('Z', 0)]\n\n\n[('N', 8), ('F', 6), ('E', 5), ('H', 3), ('Q', 3), ('B', 2), ('L', 2), ('U', 2), ('D', 1), ('G', 1), ('Ñ', 1), ('O', 1), ('R', 1), ('S', 1), ('T', 1), ('X', 1), ('A', 0), ('C', 0), ('I', 0), ('J', 0), ('K', 0), ('M', 0), ('P', 0), ('V', 0), ('W', 0), ('Y', 0), ('Z', 0)]\n\n\n[('X', 7), ('M', 4), ('T', 4), ('N', 3), ('W', 3), ('F', 2), ('I', 2), ('J', 2), ('Ñ', 2), ('O', 2), ('V', 2), ('B', 1), ('E', 1), ('G', 1), ('K', 1), ('L', 1), ('R', 1), ('A', 0), ('C', 0), ('D', 0), ('H', 0), ('P', 0), ('Q', 0), ('S', 0), ('U', 0), ('Y', 0), ('Z', 0)]\n\n\n[('M', 8), ('I', 7), ('V', 4), ('P', 3), ('W', 3), ('Y', 3), ('E', 2), ('K', 2), ('Q', 2), ('S', 2), ('H', 1), ('T', 1), ('X', 1), ('A', 0), ('B', 0), ('C', 0), ('D', 0), ('F', 0), ('G', 0), ('J', 0), ('L', 0), ('N', 0), ('Ñ', 0), ('O', 0), ('R', 0), ('U', 0), ('Z', 0)]\n\n\n"
    }
   ],
   "source": [
    "frequencies = []\n",
    "#Frecuencia por columnas\n",
    "for i in range(len_key):\n",
    "    aux = \"\"\n",
    "    for j in range(len(columns)):\n",
    "        if(i>=len(columns[j])):\n",
    "            continue\n",
    "        aux += columns[j][i]\n",
    "    #print(aux)\n",
    "    frequencies.append([(a,aux.count(a)) for a in alphabet])\n",
    "\n",
    "for f in frequencies:\n",
    "    f.sort(key=lambda x: x[1],reverse=True)\n",
    "    print(f)\n",
    "    print(\"\\n\")"
   ]
  },
  {
   "cell_type": "code",
   "execution_count": 5,
   "metadata": {},
   "outputs": [
    {
     "name": "stdout",
     "output_type": "stream",
     "text": "PASASTEAMILADOCONGRANINDIFERENCIATUSOJOSNISIQUIERAVOLTEARONHACIAMITEVISINQUEMEVIERASTEHABLESINQUEMEOYERASYTODAMIAMARGURASEAHOGDENTRODEMIMEDUELEHASTALAVIDASABERQUEMEOLVIDASTEPENSARQUENIDESPRECIOSMEREZCAYODETIYSINEMBARGOSIGUESUNIDAAMIEXISTENCIAYSIVIVOCIENAÑOSCIENAÑOSPIENSOENTI\n"
    }
   ],
   "source": [
    "#Contraseña con criptoanálisis\n",
    "password = \"INFANTE\"\n",
    "solution= \"\"\n",
    "for i in range(len(m)):\n",
    "    solution += alphabet[(alphabet.find(m[i])-alphabet.find(password[i%len(password)]))% 27]\n",
    "print(solution)"
   ]
  }
 ],
 "metadata": {
  "file_extension": ".py",
  "kernelspec": {
   "display_name": "Python 3",
   "language": "python",
   "name": "python3"
  },
  "language_info": {
   "codemirror_mode": {
    "name": "ipython",
    "version": 3
   },
   "file_extension": ".py",
   "mimetype": "text/x-python",
   "name": "python",
   "nbconvert_exporter": "python",
   "pygments_lexer": "ipython3",
   "version": "3.6.9-final"
  },
  "mimetype": "text/x-python",
  "name": "python",
  "npconvert_exporter": "python",
  "pygments_lexer": "ipython3",
  "version": 3
 },
 "nbformat": 4,
 "nbformat_minor": 2
}